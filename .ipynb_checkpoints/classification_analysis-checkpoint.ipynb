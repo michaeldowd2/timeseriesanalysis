{
 "cells": [
  {
   "cell_type": "code",
   "execution_count": 1,
   "id": "ddded406",
   "metadata": {},
   "outputs": [],
   "source": [
    "import os\n",
    "from datetime import datetime\n",
    "\n",
    "from classes.prices.AVPrice import AVPrice\n",
    "from classes.datasets.Technical_Diffshift import Technical_Diffshift\n",
    "from classes.traders.Binary_Trader import Binary_Trader\n",
    "from classes.allocators.Mean_LERP import Mean_LERP\n",
    "from classes.classifiers.Sklearn_GSCV import Sklearn_GSCV\n",
    "from classes.classifiers.Benchmark import Benchmark\n",
    "\n",
    "from classes.RunFunctions import *\n",
    "\n",
    "from sklearn.neural_network import MLPClassifier\n",
    "from sklearn.neighbors import KNeighborsClassifier\n",
    "from sklearn.svm import SVC\n",
    "from sklearn.gaussian_process import GaussianProcessClassifier\n",
    "from sklearn.gaussian_process.kernels import RBF\n",
    "from sklearn.tree import DecisionTreeClassifier\n",
    "from sklearn.ensemble import RandomForestClassifier, AdaBoostClassifier\n",
    "from sklearn.naive_bayes import GaussianNB\n",
    "from sklearn.discriminant_analysis import QuadraticDiscriminantAnalysis\n",
    "\n",
    "from datetime import datetime\n",
    "from ta import add_all_ta_features\n",
    "import pandas as pd\n",
    "import requests\n",
    "import math\n",
    "import numpy as np\n",
    "import time\n",
    "from plotnine import ggplot, geom_point, aes, stat_smooth, facet_wrap\n",
    "import matplotlib.pyplot as plt\n",
    "from statistics import mean\n",
    "\n",
    "import matplotlib.pyplot as plt\n",
    "import seaborn as sns\n",
    "import numpy as np\n",
    "from scipy.stats import gaussian_kde\n",
    "import plotly.graph_objects as go\n",
    "\n",
    "import warnings\n",
    "warnings.filterwarnings('ignore')"
   ]
  },
  {
   "cell_type": "code",
   "execution_count": 2,
   "id": "ddd4f5f7",
   "metadata": {},
   "outputs": [],
   "source": [
    "TECHNICAL_COLS = ['volume_adi', 'volume_obv',\n",
    "       'volume_cmf', 'volume_fi', 'volume_mfi', 'volume_vpt',\n",
    "       'volume_nvi', 'volume_vwap', 'volatility_atr', 'volatility_bbm',\n",
    "       'volatility_bbh', 'volatility_bbl', 'volatility_bbw', 'volatility_bbp',\n",
    "       'volatility_bbhi', 'volatility_bbli', 'volatility_kcc',\n",
    "       'volatility_kch', 'volatility_kcl', 'volatility_kcw', 'volatility_kcp',\n",
    "       'volatility_kchi', 'volatility_kcli', 'volatility_dcl',\n",
    "       'volatility_dch', 'volatility_dcm', 'volatility_dcw', 'volatility_dcp',\n",
    "       'volatility_ui', 'trend_macd', 'trend_macd_signal', 'trend_macd_diff',\n",
    "       'trend_sma_fast', 'trend_sma_slow', 'trend_ema_fast', 'trend_ema_slow',\n",
    "       'trend_adx', 'trend_adx_pos', 'trend_adx_neg', 'trend_vortex_ind_pos',\n",
    "       'trend_vortex_ind_neg', 'trend_vortex_ind_diff', 'trend_trix',\n",
    "       'trend_mass_index', 'trend_cci', 'trend_dpo', 'trend_kst',\n",
    "       'trend_kst_sig', 'trend_kst_diff', 'trend_ichimoku_conv',\n",
    "       'trend_ichimoku_base', 'trend_ichimoku_a', 'trend_ichimoku_b',\n",
    "       'trend_visual_ichimoku_a', 'trend_visual_ichimoku_b', 'trend_aroon_up',\n",
    "       'trend_aroon_down', 'trend_aroon_ind', 'trend_psar_up_indicator',\n",
    "       'trend_psar_down_indicator', 'trend_stc', 'momentum_rsi',\n",
    "       'momentum_stoch_rsi', 'momentum_stoch_rsi_k', 'momentum_stoch_rsi_d',\n",
    "       'momentum_tsi', 'momentum_uo', 'momentum_stoch',\n",
    "       'momentum_stoch_signal', 'momentum_wr', 'momentum_ao', 'momentum_kama',\n",
    "       'momentum_roc', 'momentum_ppo', 'momentum_ppo_signal',\n",
    "       'momentum_ppo_hist', 'others_dr', 'others_dlr', 'others_cr']"
   ]
  },
  {
   "cell_type": "code",
   "execution_count": 3,
   "id": "27b5c494",
   "metadata": {},
   "outputs": [],
   "source": [
    "#plots============================================================================\n",
    "def GenerateLineChart(df, column, ax, title): \n",
    "    ax.set_title(title)\n",
    "    sns.lineplot(data = df, x = 'date', y = column, ax = ax)\n",
    "\n",
    "def GenerateBarChart(df, column, ax, title): \n",
    "    ax.set_title(title)\n",
    "    sns.barplot(data = df, x = 'date', y = column, ax = ax)\n",
    "    \n",
    "def GenerateHistogram(df, column, ax, title):\n",
    "    ax.set_title(title)\n",
    "    data = df[column].dropna()\n",
    "    sns.kdeplot(data,bw=0.25,ax=ax, fill=True)\n",
    "    ax.axvline(0, 0, 1)\n",
    "    color = 'green'\n",
    "    if mean(data)<0:\n",
    "        color = 'red'\n",
    "    ax.axvline(mean(data), 0, 1, color = color)\n",
    "    m = max(abs(min(data)), abs(max(data)))\n",
    "    ax.axvline(-m, 0, 0)\n",
    "    ax.axvline(m, 0, 0)\n",
    "\n",
    "def GenerateSummaryParCoords(allocator_returns, allocators, prices, datasets, classifiers, predictors):\n",
    "    combos, combos['prices'], combos['datasets'], combos['classifiers'], combos['traders'], combos['allocators'], combos['std_daily'], combos['mean_daily'] = {},[],[],[],[],[],[],[]\n",
    "    for a in allocator_returns:\n",
    "        for p in prices:\n",
    "            for d in datasets:\n",
    "                if not CheckKeys(False, datasets[d].included, datasets[d].excluded, p):\n",
    "                    continue\n",
    "                for c in classifiers:\n",
    "                    if not CheckKeys(False, classifiers[c].included, classifiers[c].excluded, p, d):\n",
    "                        continue\n",
    "                    for t in predictors:\n",
    "                        if not CheckKeys(False, predictors[t].included, predictors[t].excluded, p, d, c):\n",
    "                            continue\n",
    "                        if CheckKeys(False, allocators[a].included, allocators[a].excluded, p, d, c, t):\n",
    "                            combos['prices'].append(p)\n",
    "                            combos['datasets'].append(d + '_' + p)\n",
    "                            combos['classifiers'].append(c + '_' + d + '_' + p)\n",
    "                            combos['traders'].append(t + '_' + c + '_' + d + '_' + p)\n",
    "                            combos['allocators'].append(a)\n",
    "                            combos['std_daily'].append(np.std(allocator_returns[a]['weighted_pal']))\n",
    "                            combos['mean_daily'].append(np.mean(allocator_returns[a]['weighted_pal']))\n",
    "\n",
    "    items = []\n",
    "    for key in ['prices', 'datasets', 'classifiers', 'traders', 'allocators']:\n",
    "        ticktext = list(np.unique(np.array((combos[key]))))\n",
    "        ticktext.sort(reverse=True)\n",
    "        tickvals = list(range(0,len(ticktext)))\n",
    "        values = []\n",
    "        for p in combos[key]:\n",
    "            values.append(ticktext.index(p))\n",
    "        items.append({'tickvals':tickvals,'label':key,'ticktext':ticktext, 'values':values})\n",
    "    for key in ['mean_daily']: # 'std_daily'\n",
    "        items.append({'label':key,'values':combos[key]})\n",
    "\n",
    "    fig = go.Figure(data= go.Parcoords(line = dict(colorscale = 'Electric'), dimensions = items))\n",
    "    fig.show()\n",
    "\n",
    "#allocator============================================================================\n",
    "def GeneratePortfolioReturns(portfolio_result, rolls = [3, 5]):\n",
    "    df = portfolio_result[['date','weight','weighted_pal']]\n",
    "    df = df.groupby(['date']).sum().reset_index()\n",
    "    for roll in rolls:\n",
    "        df[str(roll) + 'D_mean'] = df['weighted_pal'].rolling(roll).mean()\n",
    "        df[str(roll) + 'D_cumprod'] = (1 + df['weighted_pal']).rolling(roll).apply(np.prod, raw=True) - 1\n",
    "    return df\n",
    "\n",
    "def GenerateInstructions(date, portfolio_result):\n",
    "    df = portfolio_result[(portfolio_result['date'] == date)]\n",
    "    df = df[['date','dataset','exit_method','bought_at','amount']]\n",
    "    df = df.groupby(['date','dataset','exit_method','bought_at']).sum().reset_index()\n",
    "    return df\n",
    "\n",
    "#classifier====================================================================\n",
    "def GetClassifierDatasetRunRange(start_date, end_date, dataset, classifier_data):\n",
    "    run_ranges = []\n",
    "    try:\n",
    "        start_ind, end_ind = dataset.index.get_loc(start_date), dataset.index.get_loc(end_date)\n",
    "    except:\n",
    "        print('dates not found in underlying dataset, aborting generating classifier data')\n",
    "        return\n",
    "    if start_ind > end_ind:\n",
    "        print('start_date is not earlier than end date, aborting generating classifier data')\n",
    "    elif len(classifier_data) == 0:\n",
    "        print('no file, running for full range: ' + start_date + ' - ' + end_date)\n",
    "        run_ranges.append(range(start_ind, end_ind))\n",
    "    else:\n",
    "        existing_data = classifier_data[0]\n",
    "        existing_sdate, existing_edate = existing_data.index[0], existing_data.index[-1]\n",
    "        existing_start_ind, existing_end_ind = dataset.index.get_loc(existing_sdate), dataset.index.get_loc(existing_edate)\n",
    "        if end_ind <= existing_end_ind and start_ind >= existing_start_ind:\n",
    "            print('date range exists fully in file, not running any range')\n",
    "        elif end_ind < existing_start_ind:\n",
    "            print('existing file starts after specified end date - running up to start of file: ' + start_date + ' -> ' + existing_sdate)\n",
    "            run_ranges.append(range(start_ind, existing_start_ind))\n",
    "        elif start_ind > existing_end_ind:\n",
    "            print('existing file ends before specified start date - running from end of file: ' + existing_edate + ' -> ' + end_date)\n",
    "            run_ranges.append(range(existing_end_ind, end_ind))\n",
    "        else: \n",
    "            if start_ind < existing_start_ind:\n",
    "                print('running up to start of file: ' + start_date + ' -> ' + existing_sdate)\n",
    "                run_ranges.append(range(start_ind, existing_start_ind))\n",
    "            if end_ind > existing_end_ind+1:\n",
    "                print('running from end of file: ' + existing_edate + ' -> ' + end_date)\n",
    "                run_ranges.append(range(existing_end_ind, end_ind))\n",
    "    return run_ranges  \n",
    "\n",
    "def CheckKeys(Debug, included, excluded, price='',dataset='',classifier='',trader='',allocator=''):\n",
    "    if price != '' and 'prices' in included and len(included['prices']) > 0 and price not in included['prices']:\n",
    "        if Debug: print('price: ' + price + ' not in included: ' + str(included['prices']))\n",
    "        return False\n",
    "    if dataset != '' and 'datasets' in included and len(included['datasets']) > 0 and dataset not in included['datasets']:\n",
    "        if Debug: print('dataset: ' + dataset + ' not in included: ' + str(included['datasets']))\n",
    "        return False\n",
    "    if classifier != '' and 'classifiers' in included and len(included['classifiers']) > 0 and classifier not in included['classifiers']:\n",
    "        if Debug: print('classifier: ' + classifier + ' not in included: ' + str(included['classifiers']))\n",
    "        return False\n",
    "    if trader != '' and 'traders' in included and len(included['traders']) > 0 and trader not in included['traders']:\n",
    "        if Debug: print('trader: ' + trader + ' not in included: ' + str(included['traders']))\n",
    "        return False\n",
    "    if allocator != '' and 'allocators' in included and len(included['allocators']) > 0 and allocator not in included['allocators']:\n",
    "        if Debug: print('allocator: ' + allocator + ' not in included: ' + str(included['allocators']))\n",
    "        return False\n",
    "    \n",
    "    if price != '' and 'prices' in excluded and len(excluded['prices']>0) and price in excluded['prices']:\n",
    "        if Debug: print('price: ' + price + ' in excluded: ' + str(excluded['prices']))\n",
    "        return False\n",
    "    if dataset != '' and 'datasets' in excluded and len(excluded['datasets']) > 0 and dataset in excluded['datasets']:\n",
    "        if Debug: print('dataset: ' + dataset + ' in included: ' + str(excluded['datasets']))\n",
    "        return False\n",
    "    if classifier != '' and 'classifiers' in excluded and len(excluded['classifiers']) > 0 and classifier in excluded['classifiers']:\n",
    "        if Debug: print('classifier: ' + classifier + ' in excluded: ' + str(excluded['classifiers']))\n",
    "        return False\n",
    "    if trader != '' and 'traders' in excluded and len(excluded['traders']) > 0 and trader in excluded['traders']:\n",
    "        if Debug: print('trader: ' + trader + ' in excluded: ' + str(excluded['traders']))\n",
    "        return False\n",
    "    if allocator != '' and 'allocators' in excluded and len(excluded['allocators']) > 0 and allocator in excluded['allocators']:\n",
    "        if Debug: print('allocator: ' + allocator + ' in excluded: ' + str(excluded['allocators']))\n",
    "        return False\n",
    "    \n",
    "    return True\n"
   ]
  },
  {
   "cell_type": "markdown",
   "id": "940f3a44",
   "metadata": {},
   "source": [
    "<h1>Data Definition</h1>"
   ]
  },
  {
   "cell_type": "code",
   "execution_count": 30,
   "id": "b9e60e2f",
   "metadata": {},
   "outputs": [],
   "source": [
    "prices = {'500.PAR': AVPrice('500.PAR'),\n",
    "          'NDAQ': AVPrice('NDAQ'),\n",
    "          'DAX': AVPrice('DAX'),\n",
    "          'AAPL': AVPrice('AAPL'),\n",
    "          'MSFT': AVPrice('MSFT'),\n",
    "          'AMZN': AVPrice('AMZN'),\n",
    "          'FB': AVPrice('FB'),\n",
    "          'GOOGL': AVPrice('GOOGL'),\n",
    "          'GOOG': AVPrice('GOOG'),\n",
    "          'TSLA': AVPrice('TSLA'),\n",
    "          'NVDA': AVPrice('NVDA')}\n",
    "\n",
    "datasets = {'D1':Technical_Diffshift(#label='500.PAR', \n",
    "                              symbols=['500.PAR','NDAQ','DAX','AAPL','MSFT','AMZN','FB','GOOGL','GOOG'], \n",
    "                              pivot_cols = ['open','high','low','close','volume'], \n",
    "                              pivots = {1:[1,2,3,4,5,6,7,8,9,10],10:[10,20,30]},\n",
    "                              technical_cols = ['volume_adi'],\n",
    "                              included = {'prices':['500.PAR','NDAQ']}),\n",
    "           }\n",
    "\n",
    "classifiers = {'AL': Benchmark('long', included={'datasets':['D1']}),\n",
    "               'M1': Sklearn_GSCV(150,400,0.33,MLPClassifier(random_state=42), param_grid={'hidden_layer_sizes':[(56,28),(28,14),(64,32,16)],'max_iter':[100,200],'activation':['relu'],'solver':['adam'],'learning_rate_init':[0.001,0.01]}),\n",
    "               }\n",
    "                #'M2': (SVC(gamma=2),{'C':[0.025,0.25,1]}),\n",
    "                #'M3': (DecisionTreeClassifier(),{'max_depth':[5,10]}),\n",
    "                #'M4': (RandomForestClassifier(),{'max_depth':[5,10], 'n_estimators':[5,10],'max_features':[1]})}\n",
    "\n",
    "predictors = {'T1': Binary_Trader(threshold=0.0025, exit_method='at_close'),\n",
    "              'T2': Binary_Trader(threshold=0.0025, exit_method='capture_gains', capture_thresh = 0.0075, excluded={'classifiers':['AL']}),\n",
    "              'T3': Binary_Trader(threshold=0.0025, exit_method='at_close', trade_longs = False, excluded={'classifiers':['AL']}),\n",
    "              'T4': Binary_Trader(threshold=0.0025, exit_method='capture_gains', capture_thresh = 0.0075, trade_longs = False, excluded={'classifiers':['AL']})}\n",
    "\n",
    "allocators = {'A1': Mean_LERP(mean_periods = 5, min_lerp = 0.25, max_lerp = 1, excluded={'classifiers':['AL']}),\n",
    "              'A2': Mean_LERP(mean_periods = 5, min_lerp = 0.25, max_lerp = 1, included={'traders':['T3','T4']}),\n",
    "              'BM_SAP': Mean_LERP(mean_periods = 5, min_lerp = 0.25, max_lerp = 1, included={'classifiers':['AL'],'prices':['500.PAR']}),\n",
    "              'BM_DAQ': Mean_LERP(mean_periods = 5, min_lerp = 0.25, max_lerp = 1, included={'classifiers':['AL'],'prices':['NDAQ']}),\n",
    "             }"
   ]
  },
  {
   "cell_type": "markdown",
   "id": "01e80c20",
   "metadata": {},
   "source": [
    "<h1>Run Parameters</h1>"
   ]
  },
  {
   "cell_type": "code",
   "execution_count": 31,
   "id": "41b48c2d",
   "metadata": {},
   "outputs": [],
   "source": [
    "runid = '20220212'\n",
    "\n",
    "start_date, end_date = '2021-09-28', '2021-09-30'\n",
    "\n",
    "#use start and end date\n",
    "classifier_load_mode = 'file_or_generate' #'file', 'generate', 'file_or_generate'\n",
    "classifier_save_rslt = True\n",
    "\n",
    "#use start and end date\n",
    "trader_load_mode = 'generate' #'file', 'generate'\n",
    "trader_save_rslt = True\n",
    "\n",
    "allocator_load_mode = 'generate' #'file', 'generate'\n",
    "allocator_save_rslt = True"
   ]
  },
  {
   "cell_type": "markdown",
   "id": "b06adbe2",
   "metadata": {},
   "source": [
    "<h1> Prices </h1>"
   ]
  },
  {
   "cell_type": "code",
   "execution_count": 32,
   "id": "47c94a8b",
   "metadata": {},
   "outputs": [
    {
     "name": "stdout",
     "output_type": "stream",
     "text": [
      "loading price: 500.PAR, file is up to date: 2022-02-11 >= 2021-09-30\n",
      "loading price: NDAQ, file is up to date: 2022-02-11 >= 2021-09-30\n",
      "loading price: DAX, file is up to date: 2022-02-11 >= 2021-09-30\n",
      "loading price: AAPL, file is up to date: 2022-02-11 >= 2021-09-30\n",
      "loading price: MSFT, file is up to date: 2022-02-11 >= 2021-09-30\n",
      "loading price: AMZN, file is up to date: 2022-02-11 >= 2021-09-30\n",
      "loading price: FB, file is up to date: 2022-02-11 >= 2021-09-30\n",
      "loading price: GOOGL, file is up to date: 2022-02-11 >= 2021-09-30\n",
      "loading price: GOOG, file is up to date: 2022-02-11 >= 2021-09-30\n",
      "loading price: TSLA, file is up to date: 2022-02-11 >= 2021-09-30\n",
      "loading price: NVDA, file is up to date: 2022-02-11 >= 2021-09-30\n"
     ]
    }
   ],
   "source": [
    "price_data = RunPriceData(runid, prices, start_date, end_date, 'file_or_generate', save=True)"
   ]
  },
  {
   "cell_type": "code",
   "execution_count": 33,
   "id": "b0731fec",
   "metadata": {},
   "outputs": [
    {
     "name": "stdout",
     "output_type": "stream",
     "text": [
      "(3016, 13)\n",
      "               open     high      low    close  volume  open_1D_diff_perc  \\\n",
      "date                                                                        \n",
      "2022-02-07  74.3731  74.5863  73.8862  74.1579    7822          -0.002939   \n",
      "2022-02-08  74.2349  74.5648  73.8901  74.5648   10114          -0.001858   \n",
      "2022-02-09  74.9191  75.5556  74.9191  75.4897    7360           0.009217   \n",
      "2022-02-10  75.7833  75.7833  74.8639  74.8639    5834           0.011535   \n",
      "2022-02-11  74.4168  74.9084  74.1498  74.3300  850950          -0.018032   \n",
      "\n",
      "            open_1D_diff_perc_20D_STD  target_STD  leverage   norm_open  \\\n",
      "date                                                                      \n",
      "2022-02-07                   0.010279       0.015  1.459332  108.535053   \n",
      "2022-02-08                   0.010278       0.015  1.459419  108.339820   \n",
      "2022-02-09                   0.010356       0.015  1.448476  108.518517   \n",
      "2022-02-10                   0.010601       0.015  1.414956  107.230000   \n",
      "2022-02-11                   0.011023       0.015  1.360764  101.263672   \n",
      "\n",
      "             norm_high    norm_low  norm_close  \n",
      "date                                            \n",
      "2022-02-07  108.846182  107.824504  108.221005  \n",
      "2022-02-08  108.821282  107.836612  108.821282  \n",
      "2022-02-09  109.440472  108.518517  109.345018  \n",
      "2022-02-10  107.230000  105.929090  105.929090  \n",
      "2022-02-11  101.932624  100.900348  101.145558  \n"
     ]
    }
   ],
   "source": [
    "print(price_data['500.PAR'].shape)\n",
    "print(price_data['500.PAR'].tail())"
   ]
  },
  {
   "cell_type": "markdown",
   "id": "27ab1068",
   "metadata": {},
   "source": [
    "<h1>Datasets </h1>"
   ]
  },
  {
   "cell_type": "code",
   "execution_count": 34,
   "id": "08d4d01b",
   "metadata": {},
   "outputs": [
    {
     "name": "stdout",
     "output_type": "stream",
     "text": [
      "reading dataset: D1_500.PAR\n",
      "reading dataset: D1_NDAQ\n"
     ]
    }
   ],
   "source": [
    "price_dataset_results = RunDatasetData(runid, prices, price_data, datasets, start_date, end_date, 'file', save=False)"
   ]
  },
  {
   "cell_type": "code",
   "execution_count": 35,
   "id": "3190a874",
   "metadata": {},
   "outputs": [
    {
     "name": "stdout",
     "output_type": "stream",
     "text": [
      "(1827, 604)\n",
      "            500.PAR_open_D1_S1  500.PAR_high_D1_S1  500.PAR_low_D1_S1  \\\n",
      "date                                                                    \n",
      "2022-02-07             -1.4206             -1.3477            -1.2568   \n",
      "2022-02-08             -0.2192             -0.0789             0.5082   \n",
      "2022-02-09             -0.1382             -0.0215             0.0039   \n",
      "2022-02-10              0.6842              0.9908             1.0290   \n",
      "2022-02-11              0.8642              0.2277            -0.0552   \n",
      "\n",
      "            500.PAR_close_D1_S1  500.PAR_volume_D1_S1  500.PAR_open_D1_S2  \\\n",
      "date                                                                        \n",
      "2022-02-07              -0.9208                4019.0             -0.2792   \n",
      "2022-02-08               0.4439               -6571.0             -1.4206   \n",
      "2022-02-09               0.4069                2292.0             -0.2192   \n",
      "2022-02-10               0.9249               -2754.0             -0.1382   \n",
      "2022-02-11              -0.6258               -1526.0              0.6842   \n",
      "\n",
      "            500.PAR_high_D1_S2  500.PAR_low_D1_S2  500.PAR_close_D1_S2  \\\n",
      "date                                                                     \n",
      "2022-02-07             -0.5551            -1.3152              -1.3925   \n",
      "2022-02-08             -1.3477            -1.2568              -0.9208   \n",
      "2022-02-09             -0.0789             0.5082               0.4439   \n",
      "2022-02-10             -0.0215             0.0039               0.4069   \n",
      "2022-02-11              0.9908             1.0290               0.9249   \n",
      "\n",
      "            500.PAR_volume_D1_S2  ...  GOOG_close_D10_S20  \\\n",
      "date                              ...                       \n",
      "2022-02-07              -30041.0  ...             -202.76   \n",
      "2022-02-08                4019.0  ...             -189.80   \n",
      "2022-02-09               -6571.0  ...             -128.61   \n",
      "2022-02-10                2292.0  ...              -97.13   \n",
      "2022-02-11               -2754.0  ...             -137.43   \n",
      "\n",
      "            GOOG_volume_D10_S20  GOOG_open_D10_S30  GOOG_high_D10_S30  \\\n",
      "date                                                                    \n",
      "2022-02-07             279478.0             -21.73           -20.6481   \n",
      "2022-02-08            1041818.0             -32.73           -19.4700   \n",
      "2022-02-09             216361.0              -1.39            -3.7600   \n",
      "2022-02-10             330843.0              33.19            34.8350   \n",
      "2022-02-11             679403.0              41.68            -9.0950   \n",
      "\n",
      "            GOOG_low_D10_S30  GOOG_close_D10_S30  GOOG_volume_D10_S30  \\\n",
      "date                                                                    \n",
      "2022-02-07          -11.5632              -19.27            -238096.0   \n",
      "2022-02-08           -2.1500              -12.22            -418957.0   \n",
      "2022-02-09           -8.4900               -5.13            -273404.0   \n",
      "2022-02-10           65.2400               30.68            -387704.0   \n",
      "2022-02-11           61.0600              -27.32            -715197.0   \n",
      "\n",
      "            GOOG_open_D1_S0  GOOG_volume_adi_S1  label  \n",
      "date                                                    \n",
      "2022-02-07           13.840        1.333939e+08      0  \n",
      "2022-02-08          -94.355        1.313705e+08      1  \n",
      "2022-02-09           37.170        1.323620e+08      0  \n",
      "2022-02-10          -26.995        1.326434e+08      1  \n",
      "2022-02-11          -15.000        1.315320e+08      0  \n",
      "\n",
      "[5 rows x 604 columns]\n"
     ]
    }
   ],
   "source": [
    "print(price_dataset_results['500.PAR']['D1'].shape)\n",
    "print(price_dataset_results['NDAQ']['D1'].tail())"
   ]
  },
  {
   "cell_type": "markdown",
   "id": "4450a8a9",
   "metadata": {},
   "source": [
    "<h1>Classifiers</h1>\n",
    "<p>classifiers generate signals for each of the datesets</p>"
   ]
  },
  {
   "cell_type": "code",
   "execution_count": 36,
   "id": "4e5bc2ca",
   "metadata": {},
   "outputs": [
    {
     "name": "stdout",
     "output_type": "stream",
     "text": [
      "loading or generating classifier data for: AL_D1_500.PAR\n",
      "date range exists fully in file, not running any range\n",
      "loading or generating classifier data for: M1_D1_500.PAR\n",
      "date range exists fully in file, not running any range\n",
      "loading or generating classifier data for: AL_D1_NDAQ\n",
      "date range exists fully in file, not running any range\n",
      "loading or generating classifier data for: M1_D1_NDAQ\n",
      "date range exists fully in file, not running any range\n"
     ]
    }
   ],
   "source": [
    "price_dataset_classifier_results = {}\n",
    "for p in prices:\n",
    "    dataset_classifier_results = {}\n",
    "    for d in datasets: \n",
    "        if not CheckKeys(False, datasets[d].included, datasets[d].excluded, p):\n",
    "            continue\n",
    "        classifier_results = {}\n",
    "        for c in classifiers:\n",
    "            if not CheckKeys(False, classifiers[c].included, classifiers[c].excluded, p, d):\n",
    "                continue\n",
    "            if classifier_load_mode == 'file':\n",
    "                print('loading classifier data for: ' + c + '_' + d + '_' + p)\n",
    "                classifier_results[c] = pd.read_csv('output\\\\' + runid + '\\\\classifiers\\\\' + c + '_' + d + '_' + p + '.csv')\n",
    "            elif classifier_load_mode == 'generate':\n",
    "                print('generating classifier data for: ' + c + '_' + d + '_' + p)\n",
    "                start_ind, end_ind = price_dataset_results[p][d].index.get_loc(start_date), price_dataset_results[p][d].index.get_loc(end_date)\n",
    "                classifier_results[c] = classifiers[c].GenerateModelResults(price_dataset_results[p][d], price_data[p], range(start_ind, end_ind)) \n",
    "            elif classifier_load_mode == 'file_or_generate':\n",
    "                print('loading or generating classifier data for: ' + c + '_' + d + '_' + p)\n",
    "                classifier_data = []\n",
    "                if os.path.exists('output\\\\' + runid + '\\\\classifiers\\\\' + c + '_' + d + '_' + p + '.csv'):\n",
    "                    classifier_data.append(pd.read_csv('output\\\\' + runid + '\\\\classifiers\\\\' + c + '_' + d + '_' + p + '.csv', index_col = 'date'))\n",
    "                for run_range in GetClassifierDatasetRunRange(start_date, end_date, price_dataset_results[p][d], classifier_data):\n",
    "                    classifier_data.append(classifiers[c].GenerateModelResults(price_dataset_results[p][d], price_data[p], run_range))\n",
    "                classifier_results[c] = pd.concat(classifier_data)\n",
    "                classifier_results[c].sort_values(['date'], inplace=True)\n",
    "\n",
    "            if classifier_save_rslt and classifier_load_mode != 'file':\n",
    "                classifier_results[c].to_csv('output\\\\' + runid + '\\\\classifiers\\\\' + c + '_' + d + '_' + p + '.csv', index=True)    \n",
    "\n",
    "        dataset_classifier_results[d] = classifier_results\n",
    "    price_dataset_classifier_results[p] = dataset_classifier_results"
   ]
  },
  {
   "cell_type": "code",
   "execution_count": 37,
   "id": "bbaaabc9",
   "metadata": {},
   "outputs": [
    {
     "data": {
      "text/html": [
       "<div>\n",
       "<style scoped>\n",
       "    .dataframe tbody tr th:only-of-type {\n",
       "        vertical-align: middle;\n",
       "    }\n",
       "\n",
       "    .dataframe tbody tr th {\n",
       "        vertical-align: top;\n",
       "    }\n",
       "\n",
       "    .dataframe thead th {\n",
       "        text-align: right;\n",
       "    }\n",
       "</style>\n",
       "<table border=\"1\" class=\"dataframe\">\n",
       "  <thead>\n",
       "    <tr style=\"text-align: right;\">\n",
       "      <th></th>\n",
       "      <th>params</th>\n",
       "      <th>test_F1</th>\n",
       "      <th>prediction</th>\n",
       "    </tr>\n",
       "    <tr>\n",
       "      <th>date</th>\n",
       "      <th></th>\n",
       "      <th></th>\n",
       "      <th></th>\n",
       "    </tr>\n",
       "  </thead>\n",
       "  <tbody>\n",
       "    <tr>\n",
       "      <th>2021-09-28</th>\n",
       "      <td>{'activation': 'relu', 'hidden_layer_sizes': (...</td>\n",
       "      <td>0.447446</td>\n",
       "      <td>1</td>\n",
       "    </tr>\n",
       "    <tr>\n",
       "      <th>2021-09-29</th>\n",
       "      <td>{'activation': 'relu', 'hidden_layer_sizes': (...</td>\n",
       "      <td>0.423184</td>\n",
       "      <td>1</td>\n",
       "    </tr>\n",
       "    <tr>\n",
       "      <th>2021-09-30</th>\n",
       "      <td>{'activation': 'relu', 'hidden_layer_sizes': (...</td>\n",
       "      <td>0.478083</td>\n",
       "      <td>1</td>\n",
       "    </tr>\n",
       "  </tbody>\n",
       "</table>\n",
       "</div>"
      ],
      "text/plain": [
       "                                                       params   test_F1  \\\n",
       "date                                                                      \n",
       "2021-09-28  {'activation': 'relu', 'hidden_layer_sizes': (...  0.447446   \n",
       "2021-09-29  {'activation': 'relu', 'hidden_layer_sizes': (...  0.423184   \n",
       "2021-09-30  {'activation': 'relu', 'hidden_layer_sizes': (...  0.478083   \n",
       "\n",
       "            prediction  \n",
       "date                    \n",
       "2021-09-28           1  \n",
       "2021-09-29           1  \n",
       "2021-09-30           1  "
      ]
     },
     "execution_count": 37,
     "metadata": {},
     "output_type": "execute_result"
    }
   ],
   "source": [
    "price_dataset_classifier_results['NDAQ']['D1']['M1']"
   ]
  },
  {
   "cell_type": "code",
   "execution_count": 38,
   "id": "913fc977",
   "metadata": {},
   "outputs": [
    {
     "data": {
      "text/html": [
       "<div>\n",
       "<style scoped>\n",
       "    .dataframe tbody tr th:only-of-type {\n",
       "        vertical-align: middle;\n",
       "    }\n",
       "\n",
       "    .dataframe tbody tr th {\n",
       "        vertical-align: top;\n",
       "    }\n",
       "\n",
       "    .dataframe thead th {\n",
       "        text-align: right;\n",
       "    }\n",
       "</style>\n",
       "<table border=\"1\" class=\"dataframe\">\n",
       "  <thead>\n",
       "    <tr style=\"text-align: right;\">\n",
       "      <th></th>\n",
       "      <th>params</th>\n",
       "      <th>test_F1</th>\n",
       "      <th>prediction</th>\n",
       "    </tr>\n",
       "    <tr>\n",
       "      <th>date</th>\n",
       "      <th></th>\n",
       "      <th></th>\n",
       "      <th></th>\n",
       "    </tr>\n",
       "  </thead>\n",
       "  <tbody>\n",
       "    <tr>\n",
       "      <th>2021-09-28</th>\n",
       "      <td>Benchmark: long</td>\n",
       "      <td>0</td>\n",
       "      <td>1</td>\n",
       "    </tr>\n",
       "    <tr>\n",
       "      <th>2021-09-29</th>\n",
       "      <td>Benchmark: long</td>\n",
       "      <td>0</td>\n",
       "      <td>1</td>\n",
       "    </tr>\n",
       "    <tr>\n",
       "      <th>2021-09-30</th>\n",
       "      <td>Benchmark: long</td>\n",
       "      <td>0</td>\n",
       "      <td>1</td>\n",
       "    </tr>\n",
       "  </tbody>\n",
       "</table>\n",
       "</div>"
      ],
      "text/plain": [
       "                     params  test_F1  prediction\n",
       "date                                            \n",
       "2021-09-28  Benchmark: long        0           1\n",
       "2021-09-29  Benchmark: long        0           1\n",
       "2021-09-30  Benchmark: long        0           1"
      ]
     },
     "execution_count": 38,
     "metadata": {},
     "output_type": "execute_result"
    }
   ],
   "source": [
    "price_dataset_classifier_results['NDAQ']['D1']['AL']"
   ]
  },
  {
   "cell_type": "code",
   "execution_count": 14,
   "id": "17e591ef",
   "metadata": {},
   "outputs": [],
   "source": [
    "#dataset_classifier_results['500.PAR']['BL']"
   ]
  },
  {
   "cell_type": "code",
   "execution_count": 15,
   "id": "4dbdb0da",
   "metadata": {},
   "outputs": [],
   "source": [
    "#print(dataset_classifier_results['500.PAR']['BL'].index)"
   ]
  },
  {
   "cell_type": "markdown",
   "id": "6bf7ea85",
   "metadata": {},
   "source": [
    "<h1>Trader</h1>\n",
    "<p>Every trader definition is generated for every classifier. They convert classifier signals to a normalised daily return using sell-off rules</p>"
   ]
  },
  {
   "cell_type": "code",
   "execution_count": 39,
   "id": "b956c2ff",
   "metadata": {},
   "outputs": [],
   "source": [
    "norm_price = True"
   ]
  },
  {
   "cell_type": "code",
   "execution_count": 40,
   "id": "faa77936",
   "metadata": {},
   "outputs": [
    {
     "name": "stdout",
     "output_type": "stream",
     "text": [
      "generating trader data: T1_AL_D1_500.PAR\n",
      "generating trader data: T1_M1_D1_500.PAR\n",
      "generating trader data: T2_M1_D1_500.PAR\n",
      "generating trader data: T3_M1_D1_500.PAR\n",
      "generating trader data: T4_M1_D1_500.PAR\n",
      "generating trader data: T1_AL_D1_NDAQ\n",
      "generating trader data: T1_M1_D1_NDAQ\n",
      "generating trader data: T2_M1_D1_NDAQ\n",
      "generating trader data: T3_M1_D1_NDAQ\n",
      "generating trader data: T4_M1_D1_NDAQ\n"
     ]
    }
   ],
   "source": [
    "price_dataset_classifier_predictor_results = {}\n",
    "for p in prices:\n",
    "    dataset_classifier_predictor_results = {}\n",
    "    for d in datasets:\n",
    "        if not CheckKeys(False, datasets[d].included, datasets[d].excluded, p):\n",
    "            continue\n",
    "        classifier_predictor_results = {}\n",
    "        for c in classifiers:\n",
    "            if not CheckKeys(False, classifiers[c].included, classifiers[c].excluded, p, d):\n",
    "                continue\n",
    "            trader_results = {}\n",
    "            for t in predictors:\n",
    "                if not CheckKeys(False, predictors[t].included, predictors[t].excluded, p, d, c):\n",
    "                    continue\n",
    "\n",
    "                if trader_load_mode == 'file':\n",
    "                    print('loading trader data for: ' + t + '_' + c + '_' + d + '_' + p)\n",
    "                    trader_results[t] = pd.read_csv('output\\\\' + runid + '\\\\traders\\\\' + t + '_' + c + '_' + d + '_' + p + '.csv')\n",
    "                elif trader_load_mode == 'generate':\n",
    "                    print('generating trader data: ' + t + '_' + c + '_' + d + '_' + p)\n",
    "                    start_ind, end_ind = price_dataset_classifier_results[p][d][c].index.get_loc(start_date), price_dataset_classifier_results[p][d][c].index.get_loc(end_date)\n",
    "                    trader_results[t] = predictors[t].GenerateTraderResults(price_data[p], price_dataset_classifier_results[p][d][c], norm_price, range(start_ind, end_ind))\n",
    "                    trader_results[t]['price'] = p\n",
    "                    trader_results[t]['dataset'] = d\n",
    "                    trader_results[t]['classifier'] = c\n",
    "                    trader_results[t]['predictor'] = t\n",
    "                    trader_results[t]['exit_method'] = predictors[t].exit_method\n",
    "                    \n",
    "                if trader_save_rslt and trader_load_mode != 'generate':\n",
    "                    trader_results[t].to_csv('output\\\\' + runid + '\\\\traders\\\\' + t + '_' + c + '_' + d + '_' + p + '.csv', index=False)\n",
    "            \n",
    "            classifier_predictor_results[c] = trader_results\n",
    "        dataset_classifier_predictor_results[d] = classifier_predictor_results\n",
    "    price_dataset_classifier_predictor_results[p] = dataset_classifier_predictor_results"
   ]
  },
  {
   "cell_type": "code",
   "execution_count": 18,
   "id": "ce3af76d",
   "metadata": {},
   "outputs": [],
   "source": [
    "#dataset_classifier_predictor_results['500.PAR']['M1']['P1']"
   ]
  },
  {
   "cell_type": "code",
   "execution_count": 19,
   "id": "db0dc360",
   "metadata": {},
   "outputs": [],
   "source": [
    "#dataset_classifier_predictor_results['500.PAR']['M1']['P2']"
   ]
  },
  {
   "cell_type": "code",
   "execution_count": 20,
   "id": "d5667633",
   "metadata": {},
   "outputs": [],
   "source": [
    "#dataset_classifier_predictor_results['500.PAR']['M1']['P3']"
   ]
  },
  {
   "cell_type": "code",
   "execution_count": 21,
   "id": "124038b0",
   "metadata": {},
   "outputs": [],
   "source": [
    "#dataset_classifier_predictor_results['500.PAR']['M1']['P4']"
   ]
  },
  {
   "cell_type": "code",
   "execution_count": 22,
   "id": "a1eb8ed2",
   "metadata": {},
   "outputs": [],
   "source": [
    "#dataset_classifier_predictor_results['500.PAR']['BL']['P1']"
   ]
  },
  {
   "cell_type": "markdown",
   "id": "015fdd6b",
   "metadata": {},
   "source": [
    "<h1>Allocators</h1>\n",
    "<p>Allocators take all the traders and score them then allocate to them based on previous days score</p>"
   ]
  },
  {
   "cell_type": "code",
   "execution_count": 41,
   "id": "adbf0ab9",
   "metadata": {},
   "outputs": [
    {
     "name": "stdout",
     "output_type": "stream",
     "text": [
      "generating allocator data for: A1\n",
      "generating return data for: A1\n",
      "generating allocator data for: A2\n",
      "generating return data for: A2\n",
      "generating allocator data for: BM_SAP\n",
      "generating return data for: BM_SAP\n",
      "generating allocator data for: BM_DAQ\n",
      "generating return data for: BM_DAQ\n"
     ]
    }
   ],
   "source": [
    "allocator_results, allocator_returns = {}, {}\n",
    "for a in allocators:\n",
    "    if allocator_load_mode == 'file':\n",
    "        print('loading allocator data for: ' + a)\n",
    "        allocator_results[a] = pd.read_csv('output\\\\' + runid + '\\\\allocators\\\\' + a + '.csv')\n",
    "    elif allocator_load_mode == 'generate':\n",
    "        trader_dfs = []\n",
    "        for p in prices:\n",
    "            for d in datasets:\n",
    "                if not CheckKeys(False, datasets[d].included, datasets[d].excluded, p):\n",
    "                    continue\n",
    "                for c in classifiers:\n",
    "                    if not CheckKeys(False, classifiers[c].included, classifiers[c].excluded, p, d):\n",
    "                        continue\n",
    "                    for t in predictors:\n",
    "                        if not CheckKeys(False, predictors[t].included, predictors[t].excluded, p, d, c):\n",
    "                            continue\n",
    "                        if CheckKeys(False, allocators[a].included, allocators[a].excluded, p, d, c, t):\n",
    "                            trader_dfs.append(price_dataset_classifier_predictor_results[p][d][c][t])\n",
    "        if len(trader_dfs)>0:\n",
    "            print('generating allocator data for: ' + a)\n",
    "            allocator_results[a] = allocators[a].GeneratePortfolioResults(trader_dfs)\n",
    "        \n",
    "            if allocator_save_rslt:\n",
    "                allocator_results[a].to_csv('output\\\\' + runid + '\\\\allocators\\\\'  + a + '.csv', index=False)\n",
    "\n",
    "    if a in allocator_results:\n",
    "        print('generating return data for: ' + a)\n",
    "        allocator_returns[a] = GeneratePortfolioReturns(allocator_results[a])"
   ]
  },
  {
   "cell_type": "code",
   "execution_count": 42,
   "id": "65508bc8",
   "metadata": {},
   "outputs": [
    {
     "data": {
      "text/html": [
       "<div>\n",
       "<style scoped>\n",
       "    .dataframe tbody tr th:only-of-type {\n",
       "        vertical-align: middle;\n",
       "    }\n",
       "\n",
       "    .dataframe tbody tr th {\n",
       "        vertical-align: top;\n",
       "    }\n",
       "\n",
       "    .dataframe thead th {\n",
       "        text-align: right;\n",
       "    }\n",
       "</style>\n",
       "<table border=\"1\" class=\"dataframe\">\n",
       "  <thead>\n",
       "    <tr style=\"text-align: right;\">\n",
       "      <th></th>\n",
       "      <th>date</th>\n",
       "      <th>price</th>\n",
       "      <th>dataset</th>\n",
       "      <th>classifier</th>\n",
       "      <th>predictor</th>\n",
       "      <th>exit_method</th>\n",
       "      <th>bought_at</th>\n",
       "      <th>prediction</th>\n",
       "      <th>5D_mean_pal_S1</th>\n",
       "      <th>lerp</th>\n",
       "      <th>weight</th>\n",
       "      <th>amount</th>\n",
       "      <th>sold_at</th>\n",
       "      <th>perc_pal</th>\n",
       "      <th>weighted_pal</th>\n",
       "    </tr>\n",
       "  </thead>\n",
       "  <tbody>\n",
       "    <tr>\n",
       "      <th>0</th>\n",
       "      <td>2021-09-28</td>\n",
       "      <td>500.PAR</td>\n",
       "      <td>D1</td>\n",
       "      <td>AL</td>\n",
       "      <td>T1</td>\n",
       "      <td>at_close</td>\n",
       "      <td>160.462322</td>\n",
       "      <td>1</td>\n",
       "      <td>NaN</td>\n",
       "      <td>1.0</td>\n",
       "      <td>1.0</td>\n",
       "      <td>1.0</td>\n",
       "      <td>157.901364</td>\n",
       "      <td>-0.01596</td>\n",
       "      <td>-0.01596</td>\n",
       "    </tr>\n",
       "  </tbody>\n",
       "</table>\n",
       "</div>"
      ],
      "text/plain": [
       "         date    price dataset classifier predictor exit_method   bought_at  \\\n",
       "0  2021-09-28  500.PAR      D1         AL        T1    at_close  160.462322   \n",
       "\n",
       "   prediction  5D_mean_pal_S1  lerp  weight  amount     sold_at  perc_pal  \\\n",
       "0           1             NaN   1.0     1.0     1.0  157.901364  -0.01596   \n",
       "\n",
       "   weighted_pal  \n",
       "0      -0.01596  "
      ]
     },
     "execution_count": 42,
     "metadata": {},
     "output_type": "execute_result"
    }
   ],
   "source": [
    "allocator_results['BM_SAP'][(allocator_results['BM_SAP']['date']=='2021-09-28')]"
   ]
  },
  {
   "cell_type": "code",
   "execution_count": 25,
   "id": "8b018b5e",
   "metadata": {},
   "outputs": [],
   "source": [
    "#allocator_returns['ABL']"
   ]
  },
  {
   "cell_type": "code",
   "execution_count": 26,
   "id": "e2f9fe0c",
   "metadata": {},
   "outputs": [],
   "source": [
    "#allocator_results['A1'][(allocator_results['A1']['date']=='2021-09-24')]"
   ]
  },
  {
   "cell_type": "code",
   "execution_count": 27,
   "id": "2510c4db",
   "metadata": {},
   "outputs": [],
   "source": [
    "#allocator_results['A2'][(allocator_results['A2']['date']=='2021-09-24')]"
   ]
  },
  {
   "cell_type": "code",
   "execution_count": 28,
   "id": "b162769e",
   "metadata": {},
   "outputs": [],
   "source": [
    "#allocator_returns['A1']"
   ]
  },
  {
   "cell_type": "code",
   "execution_count": 29,
   "id": "f5560bb5",
   "metadata": {},
   "outputs": [],
   "source": [
    "#allocator_returns['A2']"
   ]
  },
  {
   "cell_type": "code",
   "execution_count": 30,
   "id": "455ac921",
   "metadata": {},
   "outputs": [],
   "source": [
    "#GenerateInstructions('2021-09-24', allocator_results['A1'])"
   ]
  },
  {
   "cell_type": "code",
   "execution_count": 31,
   "id": "b2f432d2",
   "metadata": {},
   "outputs": [],
   "source": [
    "#GenerateInstructions('2021-09-24', allocator_results['A2'])"
   ]
  },
  {
   "cell_type": "markdown",
   "id": "180fa2a3",
   "metadata": {},
   "source": [
    "<h1>Summary Chart</h1>"
   ]
  },
  {
   "cell_type": "code",
   "execution_count": 43,
   "id": "f4c04ced",
   "metadata": {},
   "outputs": [
    {
     "data": {
      "application/vnd.plotly.v1+json": {
       "config": {
        "plotlyServerURL": "https://plot.ly"
       },
       "data": [
        {
         "dimensions": [
          {
           "label": "prices",
           "ticktext": [
            "NDAQ",
            "500.PAR"
           ],
           "tickvals": [
            0,
            1
           ],
           "values": [
            1,
            1,
            1,
            1,
            0,
            0,
            0,
            0,
            1,
            1,
            0,
            0,
            1,
            0
           ]
          },
          {
           "label": "datasets",
           "ticktext": [
            "D1_NDAQ",
            "D1_500.PAR"
           ],
           "tickvals": [
            0,
            1
           ],
           "values": [
            1,
            1,
            1,
            1,
            0,
            0,
            0,
            0,
            1,
            1,
            0,
            0,
            1,
            0
           ]
          },
          {
           "label": "classifiers",
           "ticktext": [
            "M1_D1_NDAQ",
            "M1_D1_500.PAR",
            "AL_D1_NDAQ",
            "AL_D1_500.PAR"
           ],
           "tickvals": [
            0,
            1,
            2,
            3
           ],
           "values": [
            1,
            1,
            1,
            1,
            0,
            0,
            0,
            0,
            1,
            1,
            0,
            0,
            3,
            2
           ]
          },
          {
           "label": "traders",
           "ticktext": [
            "T4_M1_D1_NDAQ",
            "T4_M1_D1_500.PAR",
            "T3_M1_D1_NDAQ",
            "T3_M1_D1_500.PAR",
            "T2_M1_D1_NDAQ",
            "T2_M1_D1_500.PAR",
            "T1_M1_D1_NDAQ",
            "T1_M1_D1_500.PAR",
            "T1_AL_D1_NDAQ",
            "T1_AL_D1_500.PAR"
           ],
           "tickvals": [
            0,
            1,
            2,
            3,
            4,
            5,
            6,
            7,
            8,
            9
           ],
           "values": [
            7,
            5,
            3,
            1,
            6,
            4,
            2,
            0,
            3,
            1,
            2,
            0,
            9,
            8
           ]
          },
          {
           "label": "allocators",
           "ticktext": [
            "BM_SAP",
            "BM_DAQ",
            "A2",
            "A1"
           ],
           "tickvals": [
            0,
            1,
            2,
            3
           ],
           "values": [
            3,
            3,
            3,
            3,
            3,
            3,
            3,
            3,
            2,
            2,
            2,
            2,
            0,
            1
           ]
          },
          {
           "label": "mean_daily",
           "values": [
            0.009743200870510879,
            0.009743200870510879,
            0.009743200870510879,
            0.009743200870510879,
            0.009743200870510879,
            0.009743200870510879,
            0.009743200870510879,
            0.009743200870510879,
            0.007819957440340421,
            0.007819957440340421,
            0.007819957440340421,
            0.007819957440340421,
            -0.006086741922576178,
            -0.004911636356980616
           ]
          }
         ],
         "line": {
          "colorscale": [
           [
            0,
            "rgb(0,0,0)"
           ],
           [
            0.2,
            "rgb(30,0,100)"
           ],
           [
            0.4,
            "rgb(120,0,100)"
           ],
           [
            0.6,
            "rgb(160,90,0)"
           ],
           [
            0.8,
            "rgb(230,200,0)"
           ],
           [
            1,
            "rgb(255,250,220)"
           ]
          ]
         },
         "type": "parcoords"
        }
       ],
       "layout": {
        "template": {
         "data": {
          "bar": [
           {
            "error_x": {
             "color": "#2a3f5f"
            },
            "error_y": {
             "color": "#2a3f5f"
            },
            "marker": {
             "line": {
              "color": "#E5ECF6",
              "width": 0.5
             },
             "pattern": {
              "fillmode": "overlay",
              "size": 10,
              "solidity": 0.2
             }
            },
            "type": "bar"
           }
          ],
          "barpolar": [
           {
            "marker": {
             "line": {
              "color": "#E5ECF6",
              "width": 0.5
             },
             "pattern": {
              "fillmode": "overlay",
              "size": 10,
              "solidity": 0.2
             }
            },
            "type": "barpolar"
           }
          ],
          "carpet": [
           {
            "aaxis": {
             "endlinecolor": "#2a3f5f",
             "gridcolor": "white",
             "linecolor": "white",
             "minorgridcolor": "white",
             "startlinecolor": "#2a3f5f"
            },
            "baxis": {
             "endlinecolor": "#2a3f5f",
             "gridcolor": "white",
             "linecolor": "white",
             "minorgridcolor": "white",
             "startlinecolor": "#2a3f5f"
            },
            "type": "carpet"
           }
          ],
          "choropleth": [
           {
            "colorbar": {
             "outlinewidth": 0,
             "ticks": ""
            },
            "type": "choropleth"
           }
          ],
          "contour": [
           {
            "colorbar": {
             "outlinewidth": 0,
             "ticks": ""
            },
            "colorscale": [
             [
              0,
              "#0d0887"
             ],
             [
              0.1111111111111111,
              "#46039f"
             ],
             [
              0.2222222222222222,
              "#7201a8"
             ],
             [
              0.3333333333333333,
              "#9c179e"
             ],
             [
              0.4444444444444444,
              "#bd3786"
             ],
             [
              0.5555555555555556,
              "#d8576b"
             ],
             [
              0.6666666666666666,
              "#ed7953"
             ],
             [
              0.7777777777777778,
              "#fb9f3a"
             ],
             [
              0.8888888888888888,
              "#fdca26"
             ],
             [
              1,
              "#f0f921"
             ]
            ],
            "type": "contour"
           }
          ],
          "contourcarpet": [
           {
            "colorbar": {
             "outlinewidth": 0,
             "ticks": ""
            },
            "type": "contourcarpet"
           }
          ],
          "heatmap": [
           {
            "colorbar": {
             "outlinewidth": 0,
             "ticks": ""
            },
            "colorscale": [
             [
              0,
              "#0d0887"
             ],
             [
              0.1111111111111111,
              "#46039f"
             ],
             [
              0.2222222222222222,
              "#7201a8"
             ],
             [
              0.3333333333333333,
              "#9c179e"
             ],
             [
              0.4444444444444444,
              "#bd3786"
             ],
             [
              0.5555555555555556,
              "#d8576b"
             ],
             [
              0.6666666666666666,
              "#ed7953"
             ],
             [
              0.7777777777777778,
              "#fb9f3a"
             ],
             [
              0.8888888888888888,
              "#fdca26"
             ],
             [
              1,
              "#f0f921"
             ]
            ],
            "type": "heatmap"
           }
          ],
          "heatmapgl": [
           {
            "colorbar": {
             "outlinewidth": 0,
             "ticks": ""
            },
            "colorscale": [
             [
              0,
              "#0d0887"
             ],
             [
              0.1111111111111111,
              "#46039f"
             ],
             [
              0.2222222222222222,
              "#7201a8"
             ],
             [
              0.3333333333333333,
              "#9c179e"
             ],
             [
              0.4444444444444444,
              "#bd3786"
             ],
             [
              0.5555555555555556,
              "#d8576b"
             ],
             [
              0.6666666666666666,
              "#ed7953"
             ],
             [
              0.7777777777777778,
              "#fb9f3a"
             ],
             [
              0.8888888888888888,
              "#fdca26"
             ],
             [
              1,
              "#f0f921"
             ]
            ],
            "type": "heatmapgl"
           }
          ],
          "histogram": [
           {
            "marker": {
             "pattern": {
              "fillmode": "overlay",
              "size": 10,
              "solidity": 0.2
             }
            },
            "type": "histogram"
           }
          ],
          "histogram2d": [
           {
            "colorbar": {
             "outlinewidth": 0,
             "ticks": ""
            },
            "colorscale": [
             [
              0,
              "#0d0887"
             ],
             [
              0.1111111111111111,
              "#46039f"
             ],
             [
              0.2222222222222222,
              "#7201a8"
             ],
             [
              0.3333333333333333,
              "#9c179e"
             ],
             [
              0.4444444444444444,
              "#bd3786"
             ],
             [
              0.5555555555555556,
              "#d8576b"
             ],
             [
              0.6666666666666666,
              "#ed7953"
             ],
             [
              0.7777777777777778,
              "#fb9f3a"
             ],
             [
              0.8888888888888888,
              "#fdca26"
             ],
             [
              1,
              "#f0f921"
             ]
            ],
            "type": "histogram2d"
           }
          ],
          "histogram2dcontour": [
           {
            "colorbar": {
             "outlinewidth": 0,
             "ticks": ""
            },
            "colorscale": [
             [
              0,
              "#0d0887"
             ],
             [
              0.1111111111111111,
              "#46039f"
             ],
             [
              0.2222222222222222,
              "#7201a8"
             ],
             [
              0.3333333333333333,
              "#9c179e"
             ],
             [
              0.4444444444444444,
              "#bd3786"
             ],
             [
              0.5555555555555556,
              "#d8576b"
             ],
             [
              0.6666666666666666,
              "#ed7953"
             ],
             [
              0.7777777777777778,
              "#fb9f3a"
             ],
             [
              0.8888888888888888,
              "#fdca26"
             ],
             [
              1,
              "#f0f921"
             ]
            ],
            "type": "histogram2dcontour"
           }
          ],
          "mesh3d": [
           {
            "colorbar": {
             "outlinewidth": 0,
             "ticks": ""
            },
            "type": "mesh3d"
           }
          ],
          "parcoords": [
           {
            "line": {
             "colorbar": {
              "outlinewidth": 0,
              "ticks": ""
             }
            },
            "type": "parcoords"
           }
          ],
          "pie": [
           {
            "automargin": true,
            "type": "pie"
           }
          ],
          "scatter": [
           {
            "marker": {
             "colorbar": {
              "outlinewidth": 0,
              "ticks": ""
             }
            },
            "type": "scatter"
           }
          ],
          "scatter3d": [
           {
            "line": {
             "colorbar": {
              "outlinewidth": 0,
              "ticks": ""
             }
            },
            "marker": {
             "colorbar": {
              "outlinewidth": 0,
              "ticks": ""
             }
            },
            "type": "scatter3d"
           }
          ],
          "scattercarpet": [
           {
            "marker": {
             "colorbar": {
              "outlinewidth": 0,
              "ticks": ""
             }
            },
            "type": "scattercarpet"
           }
          ],
          "scattergeo": [
           {
            "marker": {
             "colorbar": {
              "outlinewidth": 0,
              "ticks": ""
             }
            },
            "type": "scattergeo"
           }
          ],
          "scattergl": [
           {
            "marker": {
             "colorbar": {
              "outlinewidth": 0,
              "ticks": ""
             }
            },
            "type": "scattergl"
           }
          ],
          "scattermapbox": [
           {
            "marker": {
             "colorbar": {
              "outlinewidth": 0,
              "ticks": ""
             }
            },
            "type": "scattermapbox"
           }
          ],
          "scatterpolar": [
           {
            "marker": {
             "colorbar": {
              "outlinewidth": 0,
              "ticks": ""
             }
            },
            "type": "scatterpolar"
           }
          ],
          "scatterpolargl": [
           {
            "marker": {
             "colorbar": {
              "outlinewidth": 0,
              "ticks": ""
             }
            },
            "type": "scatterpolargl"
           }
          ],
          "scatterternary": [
           {
            "marker": {
             "colorbar": {
              "outlinewidth": 0,
              "ticks": ""
             }
            },
            "type": "scatterternary"
           }
          ],
          "surface": [
           {
            "colorbar": {
             "outlinewidth": 0,
             "ticks": ""
            },
            "colorscale": [
             [
              0,
              "#0d0887"
             ],
             [
              0.1111111111111111,
              "#46039f"
             ],
             [
              0.2222222222222222,
              "#7201a8"
             ],
             [
              0.3333333333333333,
              "#9c179e"
             ],
             [
              0.4444444444444444,
              "#bd3786"
             ],
             [
              0.5555555555555556,
              "#d8576b"
             ],
             [
              0.6666666666666666,
              "#ed7953"
             ],
             [
              0.7777777777777778,
              "#fb9f3a"
             ],
             [
              0.8888888888888888,
              "#fdca26"
             ],
             [
              1,
              "#f0f921"
             ]
            ],
            "type": "surface"
           }
          ],
          "table": [
           {
            "cells": {
             "fill": {
              "color": "#EBF0F8"
             },
             "line": {
              "color": "white"
             }
            },
            "header": {
             "fill": {
              "color": "#C8D4E3"
             },
             "line": {
              "color": "white"
             }
            },
            "type": "table"
           }
          ]
         },
         "layout": {
          "annotationdefaults": {
           "arrowcolor": "#2a3f5f",
           "arrowhead": 0,
           "arrowwidth": 1
          },
          "autotypenumbers": "strict",
          "coloraxis": {
           "colorbar": {
            "outlinewidth": 0,
            "ticks": ""
           }
          },
          "colorscale": {
           "diverging": [
            [
             0,
             "#8e0152"
            ],
            [
             0.1,
             "#c51b7d"
            ],
            [
             0.2,
             "#de77ae"
            ],
            [
             0.3,
             "#f1b6da"
            ],
            [
             0.4,
             "#fde0ef"
            ],
            [
             0.5,
             "#f7f7f7"
            ],
            [
             0.6,
             "#e6f5d0"
            ],
            [
             0.7,
             "#b8e186"
            ],
            [
             0.8,
             "#7fbc41"
            ],
            [
             0.9,
             "#4d9221"
            ],
            [
             1,
             "#276419"
            ]
           ],
           "sequential": [
            [
             0,
             "#0d0887"
            ],
            [
             0.1111111111111111,
             "#46039f"
            ],
            [
             0.2222222222222222,
             "#7201a8"
            ],
            [
             0.3333333333333333,
             "#9c179e"
            ],
            [
             0.4444444444444444,
             "#bd3786"
            ],
            [
             0.5555555555555556,
             "#d8576b"
            ],
            [
             0.6666666666666666,
             "#ed7953"
            ],
            [
             0.7777777777777778,
             "#fb9f3a"
            ],
            [
             0.8888888888888888,
             "#fdca26"
            ],
            [
             1,
             "#f0f921"
            ]
           ],
           "sequentialminus": [
            [
             0,
             "#0d0887"
            ],
            [
             0.1111111111111111,
             "#46039f"
            ],
            [
             0.2222222222222222,
             "#7201a8"
            ],
            [
             0.3333333333333333,
             "#9c179e"
            ],
            [
             0.4444444444444444,
             "#bd3786"
            ],
            [
             0.5555555555555556,
             "#d8576b"
            ],
            [
             0.6666666666666666,
             "#ed7953"
            ],
            [
             0.7777777777777778,
             "#fb9f3a"
            ],
            [
             0.8888888888888888,
             "#fdca26"
            ],
            [
             1,
             "#f0f921"
            ]
           ]
          },
          "colorway": [
           "#636efa",
           "#EF553B",
           "#00cc96",
           "#ab63fa",
           "#FFA15A",
           "#19d3f3",
           "#FF6692",
           "#B6E880",
           "#FF97FF",
           "#FECB52"
          ],
          "font": {
           "color": "#2a3f5f"
          },
          "geo": {
           "bgcolor": "white",
           "lakecolor": "white",
           "landcolor": "#E5ECF6",
           "showlakes": true,
           "showland": true,
           "subunitcolor": "white"
          },
          "hoverlabel": {
           "align": "left"
          },
          "hovermode": "closest",
          "mapbox": {
           "style": "light"
          },
          "paper_bgcolor": "white",
          "plot_bgcolor": "#E5ECF6",
          "polar": {
           "angularaxis": {
            "gridcolor": "white",
            "linecolor": "white",
            "ticks": ""
           },
           "bgcolor": "#E5ECF6",
           "radialaxis": {
            "gridcolor": "white",
            "linecolor": "white",
            "ticks": ""
           }
          },
          "scene": {
           "xaxis": {
            "backgroundcolor": "#E5ECF6",
            "gridcolor": "white",
            "gridwidth": 2,
            "linecolor": "white",
            "showbackground": true,
            "ticks": "",
            "zerolinecolor": "white"
           },
           "yaxis": {
            "backgroundcolor": "#E5ECF6",
            "gridcolor": "white",
            "gridwidth": 2,
            "linecolor": "white",
            "showbackground": true,
            "ticks": "",
            "zerolinecolor": "white"
           },
           "zaxis": {
            "backgroundcolor": "#E5ECF6",
            "gridcolor": "white",
            "gridwidth": 2,
            "linecolor": "white",
            "showbackground": true,
            "ticks": "",
            "zerolinecolor": "white"
           }
          },
          "shapedefaults": {
           "line": {
            "color": "#2a3f5f"
           }
          },
          "ternary": {
           "aaxis": {
            "gridcolor": "white",
            "linecolor": "white",
            "ticks": ""
           },
           "baxis": {
            "gridcolor": "white",
            "linecolor": "white",
            "ticks": ""
           },
           "bgcolor": "#E5ECF6",
           "caxis": {
            "gridcolor": "white",
            "linecolor": "white",
            "ticks": ""
           }
          },
          "title": {
           "x": 0.05
          },
          "xaxis": {
           "automargin": true,
           "gridcolor": "white",
           "linecolor": "white",
           "ticks": "",
           "title": {
            "standoff": 15
           },
           "zerolinecolor": "white",
           "zerolinewidth": 2
          },
          "yaxis": {
           "automargin": true,
           "gridcolor": "white",
           "linecolor": "white",
           "ticks": "",
           "title": {
            "standoff": 15
           },
           "zerolinecolor": "white",
           "zerolinewidth": 2
          }
         }
        }
       }
      },
      "text/html": [
       "<div>                            <div id=\"e99955a6-74ec-43af-b047-edd30b5aa004\" class=\"plotly-graph-div\" style=\"height:525px; width:100%;\"></div>            <script type=\"text/javascript\">                require([\"plotly\"], function(Plotly) {                    window.PLOTLYENV=window.PLOTLYENV || {};                                    if (document.getElementById(\"e99955a6-74ec-43af-b047-edd30b5aa004\")) {                    Plotly.newPlot(                        \"e99955a6-74ec-43af-b047-edd30b5aa004\",                        [{\"dimensions\":[{\"label\":\"prices\",\"ticktext\":[\"NDAQ\",\"500.PAR\"],\"tickvals\":[0,1],\"values\":[1,1,1,1,0,0,0,0,1,1,0,0,1,0]},{\"label\":\"datasets\",\"ticktext\":[\"D1_NDAQ\",\"D1_500.PAR\"],\"tickvals\":[0,1],\"values\":[1,1,1,1,0,0,0,0,1,1,0,0,1,0]},{\"label\":\"classifiers\",\"ticktext\":[\"M1_D1_NDAQ\",\"M1_D1_500.PAR\",\"AL_D1_NDAQ\",\"AL_D1_500.PAR\"],\"tickvals\":[0,1,2,3],\"values\":[1,1,1,1,0,0,0,0,1,1,0,0,3,2]},{\"label\":\"traders\",\"ticktext\":[\"T4_M1_D1_NDAQ\",\"T4_M1_D1_500.PAR\",\"T3_M1_D1_NDAQ\",\"T3_M1_D1_500.PAR\",\"T2_M1_D1_NDAQ\",\"T2_M1_D1_500.PAR\",\"T1_M1_D1_NDAQ\",\"T1_M1_D1_500.PAR\",\"T1_AL_D1_NDAQ\",\"T1_AL_D1_500.PAR\"],\"tickvals\":[0,1,2,3,4,5,6,7,8,9],\"values\":[7,5,3,1,6,4,2,0,3,1,2,0,9,8]},{\"label\":\"allocators\",\"ticktext\":[\"BM_SAP\",\"BM_DAQ\",\"A2\",\"A1\"],\"tickvals\":[0,1,2,3],\"values\":[3,3,3,3,3,3,3,3,2,2,2,2,0,1]},{\"label\":\"mean_daily\",\"values\":[0.009743200870510879,0.009743200870510879,0.009743200870510879,0.009743200870510879,0.009743200870510879,0.009743200870510879,0.009743200870510879,0.009743200870510879,0.007819957440340421,0.007819957440340421,0.007819957440340421,0.007819957440340421,-0.006086741922576178,-0.004911636356980616]}],\"line\":{\"colorscale\":[[0.0,\"rgb(0,0,0)\"],[0.2,\"rgb(30,0,100)\"],[0.4,\"rgb(120,0,100)\"],[0.6,\"rgb(160,90,0)\"],[0.8,\"rgb(230,200,0)\"],[1.0,\"rgb(255,250,220)\"]]},\"type\":\"parcoords\"}],                        {\"template\":{\"data\":{\"bar\":[{\"error_x\":{\"color\":\"#2a3f5f\"},\"error_y\":{\"color\":\"#2a3f5f\"},\"marker\":{\"line\":{\"color\":\"#E5ECF6\",\"width\":0.5},\"pattern\":{\"fillmode\":\"overlay\",\"size\":10,\"solidity\":0.2}},\"type\":\"bar\"}],\"barpolar\":[{\"marker\":{\"line\":{\"color\":\"#E5ECF6\",\"width\":0.5},\"pattern\":{\"fillmode\":\"overlay\",\"size\":10,\"solidity\":0.2}},\"type\":\"barpolar\"}],\"carpet\":[{\"aaxis\":{\"endlinecolor\":\"#2a3f5f\",\"gridcolor\":\"white\",\"linecolor\":\"white\",\"minorgridcolor\":\"white\",\"startlinecolor\":\"#2a3f5f\"},\"baxis\":{\"endlinecolor\":\"#2a3f5f\",\"gridcolor\":\"white\",\"linecolor\":\"white\",\"minorgridcolor\":\"white\",\"startlinecolor\":\"#2a3f5f\"},\"type\":\"carpet\"}],\"choropleth\":[{\"colorbar\":{\"outlinewidth\":0,\"ticks\":\"\"},\"type\":\"choropleth\"}],\"contour\":[{\"colorbar\":{\"outlinewidth\":0,\"ticks\":\"\"},\"colorscale\":[[0.0,\"#0d0887\"],[0.1111111111111111,\"#46039f\"],[0.2222222222222222,\"#7201a8\"],[0.3333333333333333,\"#9c179e\"],[0.4444444444444444,\"#bd3786\"],[0.5555555555555556,\"#d8576b\"],[0.6666666666666666,\"#ed7953\"],[0.7777777777777778,\"#fb9f3a\"],[0.8888888888888888,\"#fdca26\"],[1.0,\"#f0f921\"]],\"type\":\"contour\"}],\"contourcarpet\":[{\"colorbar\":{\"outlinewidth\":0,\"ticks\":\"\"},\"type\":\"contourcarpet\"}],\"heatmap\":[{\"colorbar\":{\"outlinewidth\":0,\"ticks\":\"\"},\"colorscale\":[[0.0,\"#0d0887\"],[0.1111111111111111,\"#46039f\"],[0.2222222222222222,\"#7201a8\"],[0.3333333333333333,\"#9c179e\"],[0.4444444444444444,\"#bd3786\"],[0.5555555555555556,\"#d8576b\"],[0.6666666666666666,\"#ed7953\"],[0.7777777777777778,\"#fb9f3a\"],[0.8888888888888888,\"#fdca26\"],[1.0,\"#f0f921\"]],\"type\":\"heatmap\"}],\"heatmapgl\":[{\"colorbar\":{\"outlinewidth\":0,\"ticks\":\"\"},\"colorscale\":[[0.0,\"#0d0887\"],[0.1111111111111111,\"#46039f\"],[0.2222222222222222,\"#7201a8\"],[0.3333333333333333,\"#9c179e\"],[0.4444444444444444,\"#bd3786\"],[0.5555555555555556,\"#d8576b\"],[0.6666666666666666,\"#ed7953\"],[0.7777777777777778,\"#fb9f3a\"],[0.8888888888888888,\"#fdca26\"],[1.0,\"#f0f921\"]],\"type\":\"heatmapgl\"}],\"histogram\":[{\"marker\":{\"pattern\":{\"fillmode\":\"overlay\",\"size\":10,\"solidity\":0.2}},\"type\":\"histogram\"}],\"histogram2d\":[{\"colorbar\":{\"outlinewidth\":0,\"ticks\":\"\"},\"colorscale\":[[0.0,\"#0d0887\"],[0.1111111111111111,\"#46039f\"],[0.2222222222222222,\"#7201a8\"],[0.3333333333333333,\"#9c179e\"],[0.4444444444444444,\"#bd3786\"],[0.5555555555555556,\"#d8576b\"],[0.6666666666666666,\"#ed7953\"],[0.7777777777777778,\"#fb9f3a\"],[0.8888888888888888,\"#fdca26\"],[1.0,\"#f0f921\"]],\"type\":\"histogram2d\"}],\"histogram2dcontour\":[{\"colorbar\":{\"outlinewidth\":0,\"ticks\":\"\"},\"colorscale\":[[0.0,\"#0d0887\"],[0.1111111111111111,\"#46039f\"],[0.2222222222222222,\"#7201a8\"],[0.3333333333333333,\"#9c179e\"],[0.4444444444444444,\"#bd3786\"],[0.5555555555555556,\"#d8576b\"],[0.6666666666666666,\"#ed7953\"],[0.7777777777777778,\"#fb9f3a\"],[0.8888888888888888,\"#fdca26\"],[1.0,\"#f0f921\"]],\"type\":\"histogram2dcontour\"}],\"mesh3d\":[{\"colorbar\":{\"outlinewidth\":0,\"ticks\":\"\"},\"type\":\"mesh3d\"}],\"parcoords\":[{\"line\":{\"colorbar\":{\"outlinewidth\":0,\"ticks\":\"\"}},\"type\":\"parcoords\"}],\"pie\":[{\"automargin\":true,\"type\":\"pie\"}],\"scatter\":[{\"marker\":{\"colorbar\":{\"outlinewidth\":0,\"ticks\":\"\"}},\"type\":\"scatter\"}],\"scatter3d\":[{\"line\":{\"colorbar\":{\"outlinewidth\":0,\"ticks\":\"\"}},\"marker\":{\"colorbar\":{\"outlinewidth\":0,\"ticks\":\"\"}},\"type\":\"scatter3d\"}],\"scattercarpet\":[{\"marker\":{\"colorbar\":{\"outlinewidth\":0,\"ticks\":\"\"}},\"type\":\"scattercarpet\"}],\"scattergeo\":[{\"marker\":{\"colorbar\":{\"outlinewidth\":0,\"ticks\":\"\"}},\"type\":\"scattergeo\"}],\"scattergl\":[{\"marker\":{\"colorbar\":{\"outlinewidth\":0,\"ticks\":\"\"}},\"type\":\"scattergl\"}],\"scattermapbox\":[{\"marker\":{\"colorbar\":{\"outlinewidth\":0,\"ticks\":\"\"}},\"type\":\"scattermapbox\"}],\"scatterpolar\":[{\"marker\":{\"colorbar\":{\"outlinewidth\":0,\"ticks\":\"\"}},\"type\":\"scatterpolar\"}],\"scatterpolargl\":[{\"marker\":{\"colorbar\":{\"outlinewidth\":0,\"ticks\":\"\"}},\"type\":\"scatterpolargl\"}],\"scatterternary\":[{\"marker\":{\"colorbar\":{\"outlinewidth\":0,\"ticks\":\"\"}},\"type\":\"scatterternary\"}],\"surface\":[{\"colorbar\":{\"outlinewidth\":0,\"ticks\":\"\"},\"colorscale\":[[0.0,\"#0d0887\"],[0.1111111111111111,\"#46039f\"],[0.2222222222222222,\"#7201a8\"],[0.3333333333333333,\"#9c179e\"],[0.4444444444444444,\"#bd3786\"],[0.5555555555555556,\"#d8576b\"],[0.6666666666666666,\"#ed7953\"],[0.7777777777777778,\"#fb9f3a\"],[0.8888888888888888,\"#fdca26\"],[1.0,\"#f0f921\"]],\"type\":\"surface\"}],\"table\":[{\"cells\":{\"fill\":{\"color\":\"#EBF0F8\"},\"line\":{\"color\":\"white\"}},\"header\":{\"fill\":{\"color\":\"#C8D4E3\"},\"line\":{\"color\":\"white\"}},\"type\":\"table\"}]},\"layout\":{\"annotationdefaults\":{\"arrowcolor\":\"#2a3f5f\",\"arrowhead\":0,\"arrowwidth\":1},\"autotypenumbers\":\"strict\",\"coloraxis\":{\"colorbar\":{\"outlinewidth\":0,\"ticks\":\"\"}},\"colorscale\":{\"diverging\":[[0,\"#8e0152\"],[0.1,\"#c51b7d\"],[0.2,\"#de77ae\"],[0.3,\"#f1b6da\"],[0.4,\"#fde0ef\"],[0.5,\"#f7f7f7\"],[0.6,\"#e6f5d0\"],[0.7,\"#b8e186\"],[0.8,\"#7fbc41\"],[0.9,\"#4d9221\"],[1,\"#276419\"]],\"sequential\":[[0.0,\"#0d0887\"],[0.1111111111111111,\"#46039f\"],[0.2222222222222222,\"#7201a8\"],[0.3333333333333333,\"#9c179e\"],[0.4444444444444444,\"#bd3786\"],[0.5555555555555556,\"#d8576b\"],[0.6666666666666666,\"#ed7953\"],[0.7777777777777778,\"#fb9f3a\"],[0.8888888888888888,\"#fdca26\"],[1.0,\"#f0f921\"]],\"sequentialminus\":[[0.0,\"#0d0887\"],[0.1111111111111111,\"#46039f\"],[0.2222222222222222,\"#7201a8\"],[0.3333333333333333,\"#9c179e\"],[0.4444444444444444,\"#bd3786\"],[0.5555555555555556,\"#d8576b\"],[0.6666666666666666,\"#ed7953\"],[0.7777777777777778,\"#fb9f3a\"],[0.8888888888888888,\"#fdca26\"],[1.0,\"#f0f921\"]]},\"colorway\":[\"#636efa\",\"#EF553B\",\"#00cc96\",\"#ab63fa\",\"#FFA15A\",\"#19d3f3\",\"#FF6692\",\"#B6E880\",\"#FF97FF\",\"#FECB52\"],\"font\":{\"color\":\"#2a3f5f\"},\"geo\":{\"bgcolor\":\"white\",\"lakecolor\":\"white\",\"landcolor\":\"#E5ECF6\",\"showlakes\":true,\"showland\":true,\"subunitcolor\":\"white\"},\"hoverlabel\":{\"align\":\"left\"},\"hovermode\":\"closest\",\"mapbox\":{\"style\":\"light\"},\"paper_bgcolor\":\"white\",\"plot_bgcolor\":\"#E5ECF6\",\"polar\":{\"angularaxis\":{\"gridcolor\":\"white\",\"linecolor\":\"white\",\"ticks\":\"\"},\"bgcolor\":\"#E5ECF6\",\"radialaxis\":{\"gridcolor\":\"white\",\"linecolor\":\"white\",\"ticks\":\"\"}},\"scene\":{\"xaxis\":{\"backgroundcolor\":\"#E5ECF6\",\"gridcolor\":\"white\",\"gridwidth\":2,\"linecolor\":\"white\",\"showbackground\":true,\"ticks\":\"\",\"zerolinecolor\":\"white\"},\"yaxis\":{\"backgroundcolor\":\"#E5ECF6\",\"gridcolor\":\"white\",\"gridwidth\":2,\"linecolor\":\"white\",\"showbackground\":true,\"ticks\":\"\",\"zerolinecolor\":\"white\"},\"zaxis\":{\"backgroundcolor\":\"#E5ECF6\",\"gridcolor\":\"white\",\"gridwidth\":2,\"linecolor\":\"white\",\"showbackground\":true,\"ticks\":\"\",\"zerolinecolor\":\"white\"}},\"shapedefaults\":{\"line\":{\"color\":\"#2a3f5f\"}},\"ternary\":{\"aaxis\":{\"gridcolor\":\"white\",\"linecolor\":\"white\",\"ticks\":\"\"},\"baxis\":{\"gridcolor\":\"white\",\"linecolor\":\"white\",\"ticks\":\"\"},\"bgcolor\":\"#E5ECF6\",\"caxis\":{\"gridcolor\":\"white\",\"linecolor\":\"white\",\"ticks\":\"\"}},\"title\":{\"x\":0.05},\"xaxis\":{\"automargin\":true,\"gridcolor\":\"white\",\"linecolor\":\"white\",\"ticks\":\"\",\"title\":{\"standoff\":15},\"zerolinecolor\":\"white\",\"zerolinewidth\":2},\"yaxis\":{\"automargin\":true,\"gridcolor\":\"white\",\"linecolor\":\"white\",\"ticks\":\"\",\"title\":{\"standoff\":15},\"zerolinecolor\":\"white\",\"zerolinewidth\":2}}}},                        {\"responsive\": true}                    ).then(function(){\n",
       "                            \n",
       "var gd = document.getElementById('e99955a6-74ec-43af-b047-edd30b5aa004');\n",
       "var x = new MutationObserver(function (mutations, observer) {{\n",
       "        var display = window.getComputedStyle(gd).display;\n",
       "        if (!display || display === 'none') {{\n",
       "            console.log([gd, 'removed!']);\n",
       "            Plotly.purge(gd);\n",
       "            observer.disconnect();\n",
       "        }}\n",
       "}});\n",
       "\n",
       "// Listen for the removal of the full notebook cells\n",
       "var notebookContainer = gd.closest('#notebook-container');\n",
       "if (notebookContainer) {{\n",
       "    x.observe(notebookContainer, {childList: true});\n",
       "}}\n",
       "\n",
       "// Listen for the clearing of the current output cell\n",
       "var outputEl = gd.closest('.output');\n",
       "if (outputEl) {{\n",
       "    x.observe(outputEl, {childList: true});\n",
       "}}\n",
       "\n",
       "                        })                };                });            </script>        </div>"
      ]
     },
     "metadata": {},
     "output_type": "display_data"
    }
   ],
   "source": [
    "GenerateSummaryParCoords(allocator_returns, allocators, prices, datasets, classifiers, predictors)"
   ]
  },
  {
   "cell_type": "markdown",
   "id": "e7a595c8",
   "metadata": {},
   "source": [
    "<h1>Individual Charts</h1>"
   ]
  },
  {
   "cell_type": "code",
   "execution_count": 31,
   "id": "7b03fb3f",
   "metadata": {},
   "outputs": [
    {
     "name": "stdout",
     "output_type": "stream",
     "text": [
      "allocator: A1\n"
     ]
    },
    {
     "ename": "StatisticsError",
     "evalue": "mean requires at least one data point",
     "output_type": "error",
     "traceback": [
      "\u001b[1;31m---------------------------------------------------------------------------\u001b[0m",
      "\u001b[1;31mStatisticsError\u001b[0m                           Traceback (most recent call last)",
      "\u001b[1;32m~\\AppData\\Local\\Temp/ipykernel_8284/1875404443.py\u001b[0m in \u001b[0;36m<module>\u001b[1;34m\u001b[0m\n\u001b[0;32m      6\u001b[0m     \u001b[0mGenerateHistogram\u001b[0m\u001b[1;33m(\u001b[0m\u001b[0mres\u001b[0m\u001b[1;33m,\u001b[0m \u001b[1;34m'weighted_pal'\u001b[0m\u001b[1;33m,\u001b[0m \u001b[0maxs\u001b[0m\u001b[1;33m[\u001b[0m\u001b[1;36m0\u001b[0m\u001b[1;33m,\u001b[0m\u001b[1;36m1\u001b[0m\u001b[1;33m]\u001b[0m\u001b[1;33m,\u001b[0m \u001b[1;34m'daily weighted pal distribution'\u001b[0m\u001b[1;33m)\u001b[0m\u001b[1;33m\u001b[0m\u001b[1;33m\u001b[0m\u001b[0m\n\u001b[0;32m      7\u001b[0m     \u001b[0mGenerateBarChart\u001b[0m\u001b[1;33m(\u001b[0m\u001b[0mres\u001b[0m\u001b[1;33m,\u001b[0m \u001b[1;34m'5D_mean'\u001b[0m\u001b[1;33m,\u001b[0m \u001b[0maxs\u001b[0m\u001b[1;33m[\u001b[0m\u001b[1;36m1\u001b[0m\u001b[1;33m,\u001b[0m\u001b[1;36m0\u001b[0m\u001b[1;33m]\u001b[0m\u001b[1;33m,\u001b[0m \u001b[1;34m'5d mean weighted pal barchart'\u001b[0m\u001b[1;33m)\u001b[0m\u001b[1;33m\u001b[0m\u001b[1;33m\u001b[0m\u001b[0m\n\u001b[1;32m----> 8\u001b[1;33m     \u001b[0mGenerateHistogram\u001b[0m\u001b[1;33m(\u001b[0m\u001b[0mres\u001b[0m\u001b[1;33m,\u001b[0m \u001b[1;34m'5D_mean'\u001b[0m\u001b[1;33m,\u001b[0m \u001b[0maxs\u001b[0m\u001b[1;33m[\u001b[0m\u001b[1;36m1\u001b[0m\u001b[1;33m,\u001b[0m\u001b[1;36m1\u001b[0m\u001b[1;33m]\u001b[0m\u001b[1;33m,\u001b[0m \u001b[1;34m'5d mean weighted pal distribution'\u001b[0m\u001b[1;33m)\u001b[0m\u001b[1;33m\u001b[0m\u001b[1;33m\u001b[0m\u001b[0m\n\u001b[0m\u001b[0;32m      9\u001b[0m     \u001b[0mres\u001b[0m\u001b[1;33m[\u001b[0m\u001b[1;34m'cumprod'\u001b[0m\u001b[1;33m]\u001b[0m \u001b[1;33m=\u001b[0m \u001b[1;33m(\u001b[0m\u001b[1;36m1\u001b[0m \u001b[1;33m+\u001b[0m \u001b[0mres\u001b[0m\u001b[1;33m[\u001b[0m\u001b[1;34m'weighted_pal'\u001b[0m\u001b[1;33m]\u001b[0m\u001b[1;33m)\u001b[0m\u001b[1;33m.\u001b[0m\u001b[0mcumprod\u001b[0m\u001b[1;33m(\u001b[0m\u001b[1;33m)\u001b[0m \u001b[1;33m-\u001b[0m \u001b[1;36m1\u001b[0m\u001b[1;33m\u001b[0m\u001b[1;33m\u001b[0m\u001b[0m\n\u001b[0;32m     10\u001b[0m     \u001b[0mGenerateLineChart\u001b[0m\u001b[1;33m(\u001b[0m\u001b[0mres\u001b[0m\u001b[1;33m,\u001b[0m \u001b[1;34m'cumprod'\u001b[0m\u001b[1;33m,\u001b[0m \u001b[0maxs\u001b[0m\u001b[1;33m[\u001b[0m\u001b[1;36m2\u001b[0m\u001b[1;33m,\u001b[0m\u001b[1;36m0\u001b[0m\u001b[1;33m]\u001b[0m\u001b[1;33m,\u001b[0m \u001b[1;34m'full cumulative product'\u001b[0m\u001b[1;33m)\u001b[0m\u001b[1;33m\u001b[0m\u001b[1;33m\u001b[0m\u001b[0m\n",
      "\u001b[1;32m~\\AppData\\Local\\Temp/ipykernel_8284/3838338602.py\u001b[0m in \u001b[0;36mGenerateHistogram\u001b[1;34m(df, column, ax, title)\u001b[0m\n\u001b[0;32m     29\u001b[0m     \u001b[0max\u001b[0m\u001b[1;33m.\u001b[0m\u001b[0maxvline\u001b[0m\u001b[1;33m(\u001b[0m\u001b[1;36m0\u001b[0m\u001b[1;33m,\u001b[0m \u001b[1;36m0\u001b[0m\u001b[1;33m,\u001b[0m \u001b[1;36m1\u001b[0m\u001b[1;33m)\u001b[0m\u001b[1;33m\u001b[0m\u001b[1;33m\u001b[0m\u001b[0m\n\u001b[0;32m     30\u001b[0m     \u001b[0mcolor\u001b[0m \u001b[1;33m=\u001b[0m \u001b[1;34m'green'\u001b[0m\u001b[1;33m\u001b[0m\u001b[1;33m\u001b[0m\u001b[0m\n\u001b[1;32m---> 31\u001b[1;33m     \u001b[1;32mif\u001b[0m \u001b[0mmean\u001b[0m\u001b[1;33m(\u001b[0m\u001b[0mdata\u001b[0m\u001b[1;33m)\u001b[0m\u001b[1;33m<\u001b[0m\u001b[1;36m0\u001b[0m\u001b[1;33m:\u001b[0m\u001b[1;33m\u001b[0m\u001b[1;33m\u001b[0m\u001b[0m\n\u001b[0m\u001b[0;32m     32\u001b[0m         \u001b[0mcolor\u001b[0m \u001b[1;33m=\u001b[0m \u001b[1;34m'red'\u001b[0m\u001b[1;33m\u001b[0m\u001b[1;33m\u001b[0m\u001b[0m\n\u001b[0;32m     33\u001b[0m     \u001b[0max\u001b[0m\u001b[1;33m.\u001b[0m\u001b[0maxvline\u001b[0m\u001b[1;33m(\u001b[0m\u001b[0mmean\u001b[0m\u001b[1;33m(\u001b[0m\u001b[0mdata\u001b[0m\u001b[1;33m)\u001b[0m\u001b[1;33m,\u001b[0m \u001b[1;36m0\u001b[0m\u001b[1;33m,\u001b[0m \u001b[1;36m1\u001b[0m\u001b[1;33m,\u001b[0m \u001b[0mcolor\u001b[0m \u001b[1;33m=\u001b[0m \u001b[0mcolor\u001b[0m\u001b[1;33m)\u001b[0m\u001b[1;33m\u001b[0m\u001b[1;33m\u001b[0m\u001b[0m\n",
      "\u001b[1;32mC:\\Program Files (x86)\\Microsoft Visual Studio\\Shared\\Python37_64\\lib\\statistics.py\u001b[0m in \u001b[0;36mmean\u001b[1;34m(data)\u001b[0m\n\u001b[0;32m    308\u001b[0m     \u001b[0mn\u001b[0m \u001b[1;33m=\u001b[0m \u001b[0mlen\u001b[0m\u001b[1;33m(\u001b[0m\u001b[0mdata\u001b[0m\u001b[1;33m)\u001b[0m\u001b[1;33m\u001b[0m\u001b[1;33m\u001b[0m\u001b[0m\n\u001b[0;32m    309\u001b[0m     \u001b[1;32mif\u001b[0m \u001b[0mn\u001b[0m \u001b[1;33m<\u001b[0m \u001b[1;36m1\u001b[0m\u001b[1;33m:\u001b[0m\u001b[1;33m\u001b[0m\u001b[1;33m\u001b[0m\u001b[0m\n\u001b[1;32m--> 310\u001b[1;33m         \u001b[1;32mraise\u001b[0m \u001b[0mStatisticsError\u001b[0m\u001b[1;33m(\u001b[0m\u001b[1;34m'mean requires at least one data point'\u001b[0m\u001b[1;33m)\u001b[0m\u001b[1;33m\u001b[0m\u001b[1;33m\u001b[0m\u001b[0m\n\u001b[0m\u001b[0;32m    311\u001b[0m     \u001b[0mT\u001b[0m\u001b[1;33m,\u001b[0m \u001b[0mtotal\u001b[0m\u001b[1;33m,\u001b[0m \u001b[0mcount\u001b[0m \u001b[1;33m=\u001b[0m \u001b[0m_sum\u001b[0m\u001b[1;33m(\u001b[0m\u001b[0mdata\u001b[0m\u001b[1;33m)\u001b[0m\u001b[1;33m\u001b[0m\u001b[1;33m\u001b[0m\u001b[0m\n\u001b[0;32m    312\u001b[0m     \u001b[1;32massert\u001b[0m \u001b[0mcount\u001b[0m \u001b[1;33m==\u001b[0m \u001b[0mn\u001b[0m\u001b[1;33m\u001b[0m\u001b[1;33m\u001b[0m\u001b[0m\n",
      "\u001b[1;31mStatisticsError\u001b[0m: mean requires at least one data point"
     ]
    },
    {
     "data": {
      "image/png": "[encoded data removed]",
      "text/plain": [
       "<Figure size 1152x720 with 6 Axes>"
      ]
     },
     "metadata": {
      "needs_background": "light"
     },
     "output_type": "display_data"
    }
   ],
   "source": [
    "for a in allocator_returns:\n",
    "    res = allocator_returns[a]\n",
    "    fig, axs = plt.subplots(3,2, figsize=(16,10))\n",
    "    print('allocator: ' + a)\n",
    "    GenerateBarChart(res, 'weighted_pal', axs[0,0], 'daily weighted pal barchart')\n",
    "    GenerateHistogram(res, 'weighted_pal', axs[0,1], 'daily weighted pal distribution')\n",
    "    GenerateBarChart(res, '5D_mean', axs[1,0], '5d mean weighted pal barchart')\n",
    "    GenerateHistogram(res, '5D_mean', axs[1,1], '5d mean weighted pal distribution')\n",
    "    res['cumprod'] = (1 + res['weighted_pal']).cumprod() - 1\n",
    "    GenerateLineChart(res, 'cumprod', axs[2,0], 'full cumulative product')\n",
    "    GenerateHistogram(res, 'cumprod', axs[2,1], 'full cumulative product distribution')\n",
    "    plt.show()"
   ]
  }
 ],
 "metadata": {
  "kernelspec": {
   "display_name": "Python 3 (ipykernel)",
   "language": "python",
   "name": "python3"
  },
  "language_info": {
   "codemirror_mode": {
    "name": "ipython",
    "version": 3
   },
   "file_extension": ".py",
   "mimetype": "text/x-python",
   "name": "python",
   "nbconvert_exporter": "python",
   "pygments_lexer": "ipython3",
   "version": "3.7.8"
  }
 },
 "nbformat": 4,
 "nbformat_minor": 5
}
